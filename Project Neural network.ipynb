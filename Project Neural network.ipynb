{
 "cells": [
  {
   "cell_type": "code",
   "execution_count": 33,
   "metadata": {},
   "outputs": [],
   "source": [
    "# Importing dependencies\n",
    "\n",
    "import keras\n",
    "from keras.models import Sequential\n",
    "from keras.layers import Dense, Dropout, Flatten, Conv2D, MaxPooling2D\n",
    "from pathlib import Path\n",
    "import pandas as pd\n",
    "from keras.models import model_from_json\n",
    "from pathlib import Path\n",
    "from keras.preprocessing import image\n",
    "import numpy as np\n",
    "\n",
    "import matplotlib.pyplot as plt\n",
    "%matplotlib inline\n",
    "\n",
    "\n",
    "from sklearn.metrics import confusion_matrix\n",
    "from sklearn.model_selection import train_test_split\n",
    "\n",
    "from matrix_util import *\n",
    "import tensorflow as tf"
   ]
  },
  {
   "cell_type": "markdown",
   "metadata": {},
   "source": [
    "# Cleaning up the Dataset"
   ]
  },
  {
   "cell_type": "code",
   "execution_count": 34,
   "metadata": {},
   "outputs": [],
   "source": [
    "# importing CSV file containing image labels and corresponding image file names\n",
    "\n",
    "path_to_labels=\"data/legend.csv\"\n",
    "\n",
    "data=pd.read_csv(path_to_labels)\n"
   ]
  },
  {
   "cell_type": "code",
   "execution_count": 122,
   "metadata": {},
   "outputs": [
    {
     "data": {
      "text/html": [
       "<div>\n",
       "<style scoped>\n",
       "    .dataframe tbody tr th:only-of-type {\n",
       "        vertical-align: middle;\n",
       "    }\n",
       "\n",
       "    .dataframe tbody tr th {\n",
       "        vertical-align: top;\n",
       "    }\n",
       "\n",
       "    .dataframe thead th {\n",
       "        text-align: right;\n",
       "    }\n",
       "</style>\n",
       "<table border=\"1\" class=\"dataframe\">\n",
       "  <thead>\n",
       "    <tr style=\"text-align: right;\">\n",
       "      <th></th>\n",
       "      <th>user.id</th>\n",
       "      <th>image</th>\n",
       "      <th>emotion</th>\n",
       "    </tr>\n",
       "  </thead>\n",
       "  <tbody>\n",
       "    <tr>\n",
       "      <th>0</th>\n",
       "      <td>628</td>\n",
       "      <td>facial-expressions_2868588k.jpg</td>\n",
       "      <td>anger</td>\n",
       "    </tr>\n",
       "    <tr>\n",
       "      <th>1</th>\n",
       "      <td>628</td>\n",
       "      <td>facial-expressions_2868585k.jpg</td>\n",
       "      <td>surprise</td>\n",
       "    </tr>\n",
       "    <tr>\n",
       "      <th>2</th>\n",
       "      <td>628</td>\n",
       "      <td>facial-expressions_2868584k.jpg</td>\n",
       "      <td>disgust</td>\n",
       "    </tr>\n",
       "    <tr>\n",
       "      <th>3</th>\n",
       "      <td>628</td>\n",
       "      <td>facial-expressions_2868582k.jpg</td>\n",
       "      <td>fear</td>\n",
       "    </tr>\n",
       "    <tr>\n",
       "      <th>4</th>\n",
       "      <td>dwdii</td>\n",
       "      <td>Aaron_Eckhart_0001.jpg</td>\n",
       "      <td>neutral</td>\n",
       "    </tr>\n",
       "    <tr>\n",
       "      <th>5</th>\n",
       "      <td>302</td>\n",
       "      <td>Aaron_Guiel_0001.jpg</td>\n",
       "      <td>happiness</td>\n",
       "    </tr>\n",
       "    <tr>\n",
       "      <th>6</th>\n",
       "      <td>302</td>\n",
       "      <td>Aaron_Patterson_0001.jpg</td>\n",
       "      <td>neutral</td>\n",
       "    </tr>\n",
       "    <tr>\n",
       "      <th>7</th>\n",
       "      <td>302</td>\n",
       "      <td>Aaron_Peirsol_0001.jpg</td>\n",
       "      <td>happiness</td>\n",
       "    </tr>\n",
       "    <tr>\n",
       "      <th>8</th>\n",
       "      <td>302</td>\n",
       "      <td>Aaron_Peirsol_0002.jpg</td>\n",
       "      <td>happiness</td>\n",
       "    </tr>\n",
       "    <tr>\n",
       "      <th>9</th>\n",
       "      <td>302</td>\n",
       "      <td>Aaron_Peirsol_0003.jpg</td>\n",
       "      <td>happiness</td>\n",
       "    </tr>\n",
       "    <tr>\n",
       "      <th>10</th>\n",
       "      <td>302</td>\n",
       "      <td>Aaron_Peirsol_0004.jpg</td>\n",
       "      <td>neutral</td>\n",
       "    </tr>\n",
       "    <tr>\n",
       "      <th>11</th>\n",
       "      <td>302</td>\n",
       "      <td>Aaron_Pena_0001.jpg</td>\n",
       "      <td>neutral</td>\n",
       "    </tr>\n",
       "    <tr>\n",
       "      <th>12</th>\n",
       "      <td>302</td>\n",
       "      <td>Aaron_Sorkin_0001.jpg</td>\n",
       "      <td>happiness</td>\n",
       "    </tr>\n",
       "    <tr>\n",
       "      <th>13</th>\n",
       "      <td>302</td>\n",
       "      <td>Aaron_Sorkin_0002.jpg</td>\n",
       "      <td>happiness</td>\n",
       "    </tr>\n",
       "    <tr>\n",
       "      <th>14</th>\n",
       "      <td>302</td>\n",
       "      <td>Aaron_Tippin_0001.jpg</td>\n",
       "      <td>neutral</td>\n",
       "    </tr>\n",
       "    <tr>\n",
       "      <th>15</th>\n",
       "      <td>302</td>\n",
       "      <td>Abbas_Kiarostami_0001.jpg</td>\n",
       "      <td>neutral</td>\n",
       "    </tr>\n",
       "    <tr>\n",
       "      <th>16</th>\n",
       "      <td>302</td>\n",
       "      <td>Abba_Eban_0001.jpg</td>\n",
       "      <td>happiness</td>\n",
       "    </tr>\n",
       "    <tr>\n",
       "      <th>17</th>\n",
       "      <td>302</td>\n",
       "      <td>Abdel_Aziz_Al-Hakim_0001.jpg</td>\n",
       "      <td>neutral</td>\n",
       "    </tr>\n",
       "    <tr>\n",
       "      <th>18</th>\n",
       "      <td>302</td>\n",
       "      <td>Abdel_Madi_Shabneh_0001.jpg</td>\n",
       "      <td>neutral</td>\n",
       "    </tr>\n",
       "    <tr>\n",
       "      <th>19</th>\n",
       "      <td>302</td>\n",
       "      <td>Abdel_Nasser_Assidi_0001.jpg</td>\n",
       "      <td>neutral</td>\n",
       "    </tr>\n",
       "    <tr>\n",
       "      <th>20</th>\n",
       "      <td>302</td>\n",
       "      <td>Abdel_Nasser_Assidi_0002.jpg</td>\n",
       "      <td>neutral</td>\n",
       "    </tr>\n",
       "    <tr>\n",
       "      <th>21</th>\n",
       "      <td>302</td>\n",
       "      <td>Abdoulaye_Wade_0001.jpg</td>\n",
       "      <td>neutral</td>\n",
       "    </tr>\n",
       "    <tr>\n",
       "      <th>22</th>\n",
       "      <td>302</td>\n",
       "      <td>Abdoulaye_Wade_0002.jpg</td>\n",
       "      <td>happiness</td>\n",
       "    </tr>\n",
       "    <tr>\n",
       "      <th>23</th>\n",
       "      <td>302</td>\n",
       "      <td>Abdoulaye_Wade_0003.jpg</td>\n",
       "      <td>neutral</td>\n",
       "    </tr>\n",
       "    <tr>\n",
       "      <th>24</th>\n",
       "      <td>302</td>\n",
       "      <td>Abdoulaye_Wade_0004.jpg</td>\n",
       "      <td>happiness</td>\n",
       "    </tr>\n",
       "    <tr>\n",
       "      <th>25</th>\n",
       "      <td>302</td>\n",
       "      <td>Abdulaziz_Kamilov_0001.jpg</td>\n",
       "      <td>neutral</td>\n",
       "    </tr>\n",
       "    <tr>\n",
       "      <th>26</th>\n",
       "      <td>302</td>\n",
       "      <td>Abdullah_0001.jpg</td>\n",
       "      <td>neutral</td>\n",
       "    </tr>\n",
       "    <tr>\n",
       "      <th>27</th>\n",
       "      <td>302</td>\n",
       "      <td>Abdullah_0002.jpg</td>\n",
       "      <td>neutral</td>\n",
       "    </tr>\n",
       "    <tr>\n",
       "      <th>28</th>\n",
       "      <td>302</td>\n",
       "      <td>Abdullah_0003.jpg</td>\n",
       "      <td>neutral</td>\n",
       "    </tr>\n",
       "    <tr>\n",
       "      <th>29</th>\n",
       "      <td>302</td>\n",
       "      <td>Abdullah_0004.jpg</td>\n",
       "      <td>neutral</td>\n",
       "    </tr>\n",
       "    <tr>\n",
       "      <th>...</th>\n",
       "      <td>...</td>\n",
       "      <td>...</td>\n",
       "      <td>...</td>\n",
       "    </tr>\n",
       "    <tr>\n",
       "      <th>14160</th>\n",
       "      <td>906</td>\n",
       "      <td>Tim_Floyd_0002.jpg</td>\n",
       "      <td>neutral</td>\n",
       "    </tr>\n",
       "    <tr>\n",
       "      <th>14161</th>\n",
       "      <td>906</td>\n",
       "      <td>Tim_Henman_0001.jpg</td>\n",
       "      <td>anger</td>\n",
       "    </tr>\n",
       "    <tr>\n",
       "      <th>14162</th>\n",
       "      <td>906</td>\n",
       "      <td>Tim_Henman_0002.jpg</td>\n",
       "      <td>anger</td>\n",
       "    </tr>\n",
       "    <tr>\n",
       "      <th>14163</th>\n",
       "      <td>906</td>\n",
       "      <td>Tim_Henman_0003.jpg</td>\n",
       "      <td>fear</td>\n",
       "    </tr>\n",
       "    <tr>\n",
       "      <th>14164</th>\n",
       "      <td>906</td>\n",
       "      <td>Tim_Henman_0004.jpg</td>\n",
       "      <td>fear</td>\n",
       "    </tr>\n",
       "    <tr>\n",
       "      <th>14165</th>\n",
       "      <td>906</td>\n",
       "      <td>Tim_Henman_0005.jpg</td>\n",
       "      <td>anger</td>\n",
       "    </tr>\n",
       "    <tr>\n",
       "      <th>14166</th>\n",
       "      <td>906</td>\n",
       "      <td>Tim_Henman_0006.jpg</td>\n",
       "      <td>anger</td>\n",
       "    </tr>\n",
       "    <tr>\n",
       "      <th>14167</th>\n",
       "      <td>906</td>\n",
       "      <td>Tim_Henman_0007.jpg</td>\n",
       "      <td>anger</td>\n",
       "    </tr>\n",
       "    <tr>\n",
       "      <th>14168</th>\n",
       "      <td>906</td>\n",
       "      <td>Tim_Henman_0008.jpg</td>\n",
       "      <td>anger</td>\n",
       "    </tr>\n",
       "    <tr>\n",
       "      <th>14169</th>\n",
       "      <td>906</td>\n",
       "      <td>Tim_Henman_0009.jpg</td>\n",
       "      <td>anger</td>\n",
       "    </tr>\n",
       "    <tr>\n",
       "      <th>14170</th>\n",
       "      <td>906</td>\n",
       "      <td>Tim_Henman_0010.jpg</td>\n",
       "      <td>anger</td>\n",
       "    </tr>\n",
       "    <tr>\n",
       "      <th>14171</th>\n",
       "      <td>906</td>\n",
       "      <td>Tim_Henman_0011.jpg</td>\n",
       "      <td>anger</td>\n",
       "    </tr>\n",
       "    <tr>\n",
       "      <th>14172</th>\n",
       "      <td>906</td>\n",
       "      <td>Tim_Henman_0012.jpg</td>\n",
       "      <td>anger</td>\n",
       "    </tr>\n",
       "    <tr>\n",
       "      <th>14173</th>\n",
       "      <td>906</td>\n",
       "      <td>Tim_Henman_0013.jpg</td>\n",
       "      <td>anger</td>\n",
       "    </tr>\n",
       "    <tr>\n",
       "      <th>14174</th>\n",
       "      <td>906</td>\n",
       "      <td>Tim_Henman_0014.jpg</td>\n",
       "      <td>anger</td>\n",
       "    </tr>\n",
       "    <tr>\n",
       "      <th>14175</th>\n",
       "      <td>906</td>\n",
       "      <td>Tim_Henman_0015.jpg</td>\n",
       "      <td>sad</td>\n",
       "    </tr>\n",
       "    <tr>\n",
       "      <th>14176</th>\n",
       "      <td>906</td>\n",
       "      <td>Tim_Henman_0016.jpg</td>\n",
       "      <td>anger</td>\n",
       "    </tr>\n",
       "    <tr>\n",
       "      <th>14177</th>\n",
       "      <td>906</td>\n",
       "      <td>Tim_Henman_0017.jpg</td>\n",
       "      <td>happiness</td>\n",
       "    </tr>\n",
       "    <tr>\n",
       "      <th>14178</th>\n",
       "      <td>906</td>\n",
       "      <td>Tim_Henman_0018.jpg</td>\n",
       "      <td>anger</td>\n",
       "    </tr>\n",
       "    <tr>\n",
       "      <th>14179</th>\n",
       "      <td>906</td>\n",
       "      <td>Tim_Henman_0019.jpg</td>\n",
       "      <td>anger</td>\n",
       "    </tr>\n",
       "    <tr>\n",
       "      <th>14180</th>\n",
       "      <td>906</td>\n",
       "      <td>Tim_Howard_0001.jpg</td>\n",
       "      <td>happiness</td>\n",
       "    </tr>\n",
       "    <tr>\n",
       "      <th>14181</th>\n",
       "      <td>906</td>\n",
       "      <td>Tim_Jones_0001.jpg</td>\n",
       "      <td>neutral</td>\n",
       "    </tr>\n",
       "    <tr>\n",
       "      <th>14182</th>\n",
       "      <td>906</td>\n",
       "      <td>Tim_Lobinger_0001.jpg</td>\n",
       "      <td>fear</td>\n",
       "    </tr>\n",
       "    <tr>\n",
       "      <th>14183</th>\n",
       "      <td>906</td>\n",
       "      <td>Tim_Lopes_0001.jpg</td>\n",
       "      <td>sad</td>\n",
       "    </tr>\n",
       "    <tr>\n",
       "      <th>14184</th>\n",
       "      <td>906</td>\n",
       "      <td>Tim_Matheson_0001.jpg</td>\n",
       "      <td>anger</td>\n",
       "    </tr>\n",
       "    <tr>\n",
       "      <th>14185</th>\n",
       "      <td>906</td>\n",
       "      <td>Tim_Pawlenty_0001.jpg</td>\n",
       "      <td>neutral</td>\n",
       "    </tr>\n",
       "    <tr>\n",
       "      <th>14186</th>\n",
       "      <td>906</td>\n",
       "      <td>Tim_Robbins_0001.jpg</td>\n",
       "      <td>neutral</td>\n",
       "    </tr>\n",
       "    <tr>\n",
       "      <th>14187</th>\n",
       "      <td>906</td>\n",
       "      <td>Tim_Robbins_0002.jpg</td>\n",
       "      <td>neutral</td>\n",
       "    </tr>\n",
       "    <tr>\n",
       "      <th>14188</th>\n",
       "      <td>906</td>\n",
       "      <td>Tim_Robbins_0003.jpg</td>\n",
       "      <td>neutral</td>\n",
       "    </tr>\n",
       "    <tr>\n",
       "      <th>14189</th>\n",
       "      <td>906</td>\n",
       "      <td>Tim_Robbins_0004.jpg</td>\n",
       "      <td>happiness</td>\n",
       "    </tr>\n",
       "  </tbody>\n",
       "</table>\n",
       "<p>14190 rows × 3 columns</p>\n",
       "</div>"
      ],
      "text/plain": [
       "      user.id                            image    emotion\n",
       "0         628  facial-expressions_2868588k.jpg      anger\n",
       "1         628  facial-expressions_2868585k.jpg   surprise\n",
       "2         628  facial-expressions_2868584k.jpg    disgust\n",
       "3         628  facial-expressions_2868582k.jpg       fear\n",
       "4       dwdii           Aaron_Eckhart_0001.jpg    neutral\n",
       "5         302             Aaron_Guiel_0001.jpg  happiness\n",
       "6         302         Aaron_Patterson_0001.jpg    neutral\n",
       "7         302           Aaron_Peirsol_0001.jpg  happiness\n",
       "8         302           Aaron_Peirsol_0002.jpg  happiness\n",
       "9         302           Aaron_Peirsol_0003.jpg  happiness\n",
       "10        302           Aaron_Peirsol_0004.jpg    neutral\n",
       "11        302              Aaron_Pena_0001.jpg    neutral\n",
       "12        302            Aaron_Sorkin_0001.jpg  happiness\n",
       "13        302            Aaron_Sorkin_0002.jpg  happiness\n",
       "14        302            Aaron_Tippin_0001.jpg    neutral\n",
       "15        302        Abbas_Kiarostami_0001.jpg    neutral\n",
       "16        302               Abba_Eban_0001.jpg  happiness\n",
       "17        302     Abdel_Aziz_Al-Hakim_0001.jpg    neutral\n",
       "18        302      Abdel_Madi_Shabneh_0001.jpg    neutral\n",
       "19        302     Abdel_Nasser_Assidi_0001.jpg    neutral\n",
       "20        302     Abdel_Nasser_Assidi_0002.jpg    neutral\n",
       "21        302          Abdoulaye_Wade_0001.jpg    neutral\n",
       "22        302          Abdoulaye_Wade_0002.jpg  happiness\n",
       "23        302          Abdoulaye_Wade_0003.jpg    neutral\n",
       "24        302          Abdoulaye_Wade_0004.jpg  happiness\n",
       "25        302       Abdulaziz_Kamilov_0001.jpg    neutral\n",
       "26        302                Abdullah_0001.jpg    neutral\n",
       "27        302                Abdullah_0002.jpg    neutral\n",
       "28        302                Abdullah_0003.jpg    neutral\n",
       "29        302                Abdullah_0004.jpg    neutral\n",
       "...       ...                              ...        ...\n",
       "14160     906               Tim_Floyd_0002.jpg    neutral\n",
       "14161     906              Tim_Henman_0001.jpg      anger\n",
       "14162     906              Tim_Henman_0002.jpg      anger\n",
       "14163     906              Tim_Henman_0003.jpg       fear\n",
       "14164     906              Tim_Henman_0004.jpg       fear\n",
       "14165     906              Tim_Henman_0005.jpg      anger\n",
       "14166     906              Tim_Henman_0006.jpg      anger\n",
       "14167     906              Tim_Henman_0007.jpg      anger\n",
       "14168     906              Tim_Henman_0008.jpg      anger\n",
       "14169     906              Tim_Henman_0009.jpg      anger\n",
       "14170     906              Tim_Henman_0010.jpg      anger\n",
       "14171     906              Tim_Henman_0011.jpg      anger\n",
       "14172     906              Tim_Henman_0012.jpg      anger\n",
       "14173     906              Tim_Henman_0013.jpg      anger\n",
       "14174     906              Tim_Henman_0014.jpg      anger\n",
       "14175     906              Tim_Henman_0015.jpg        sad\n",
       "14176     906              Tim_Henman_0016.jpg      anger\n",
       "14177     906              Tim_Henman_0017.jpg  happiness\n",
       "14178     906              Tim_Henman_0018.jpg      anger\n",
       "14179     906              Tim_Henman_0019.jpg      anger\n",
       "14180     906              Tim_Howard_0001.jpg  happiness\n",
       "14181     906               Tim_Jones_0001.jpg    neutral\n",
       "14182     906            Tim_Lobinger_0001.jpg       fear\n",
       "14183     906               Tim_Lopes_0001.jpg        sad\n",
       "14184     906            Tim_Matheson_0001.jpg      anger\n",
       "14185     906            Tim_Pawlenty_0001.jpg    neutral\n",
       "14186     906             Tim_Robbins_0001.jpg    neutral\n",
       "14187     906             Tim_Robbins_0002.jpg    neutral\n",
       "14188     906             Tim_Robbins_0003.jpg    neutral\n",
       "14189     906             Tim_Robbins_0004.jpg  happiness\n",
       "\n",
       "[14190 rows x 3 columns]"
      ]
     },
     "execution_count": 122,
     "metadata": {},
     "output_type": "execute_result"
    }
   ],
   "source": [
    "data"
   ]
  },
  {
   "cell_type": "code",
   "execution_count": 36,
   "metadata": {},
   "outputs": [],
   "source": [
    "# Lower casing all the values in the emotion column\n",
    "\n",
    "data['emotion'] = [str(i).lower() for i in data[\"emotion\"]]"
   ]
  },
  {
   "cell_type": "code",
   "execution_count": 37,
   "metadata": {},
   "outputs": [],
   "source": [
    "# re-labelling all the columns labelled sad, with sadness for consistency\n",
    "\n",
    "data['emotion']=data['emotion'].replace(to_replace='sadness', value='sad', regex=True)\n"
   ]
  },
  {
   "cell_type": "code",
   "execution_count": 38,
   "metadata": {},
   "outputs": [
    {
     "data": {
      "text/plain": [
       "['anger',\n",
       " 'surprise',\n",
       " 'disgust',\n",
       " 'fear',\n",
       " 'neutral',\n",
       " 'happiness',\n",
       " 'sad',\n",
       " 'contempt']"
      ]
     },
     "execution_count": 38,
     "metadata": {},
     "output_type": "execute_result"
    }
   ],
   "source": [
    "labels=list(data['emotion'].unique())\n",
    "labels"
   ]
  },
  {
   "cell_type": "code",
   "execution_count": 39,
   "metadata": {},
   "outputs": [],
   "source": [
    "# Pick 4 emotions of choice i.e. anger, neutral, happiness, sad\n",
    "\n",
    "restricted_to_specific_emo=data.loc[data.emotion.isin([\"anger\",\"neutral\",\"happiness\",\"sad\"])].reset_index(drop=True)\n"
   ]
  },
  {
   "cell_type": "code",
   "execution_count": 40,
   "metadata": {},
   "outputs": [
    {
     "data": {
      "text/plain": [
       "['anger', 'neutral', 'happiness', 'sad']"
      ]
     },
     "execution_count": 40,
     "metadata": {},
     "output_type": "execute_result"
    }
   ],
   "source": [
    "# Labels we are going to use\n",
    "\n",
    "using_labels=list(restricted_to_specific_emo['emotion'].unique())\n",
    "using_labels"
   ]
  },
  {
   "cell_type": "markdown",
   "metadata": {},
   "source": [
    "# USE OPEN CV2 to generate array for all images"
   ]
  },
  {
   "cell_type": "code",
   "execution_count": 41,
   "metadata": {},
   "outputs": [],
   "source": [
    "import cv2\n"
   ]
  },
  {
   "cell_type": "code",
   "execution_count": 42,
   "metadata": {},
   "outputs": [],
   "source": [
    "# Taking the column name \"image\" from the dataframe labelled data and converting to list\n",
    "\n",
    "img_file_names = list(restricted_to_specific_emo[\"image\"])\n"
   ]
  },
  {
   "cell_type": "code",
   "execution_count": 43,
   "metadata": {},
   "outputs": [],
   "source": [
    "# To get the array value of each file\n",
    "\n",
    "grayscale_image_array=[]\n",
    "\n",
    "for i in range(len(img_file_names)):\n",
    "    img_path = f\"images/{img_file_names[i]}\"\n",
    "    img = cv2.imread(img_path,0)\n",
    "    grayscale_image_array.append(img)\n",
    "    "
   ]
  },
  {
   "cell_type": "code",
   "execution_count": 44,
   "metadata": {},
   "outputs": [
    {
     "data": {
      "text/html": [
       "<div>\n",
       "<style scoped>\n",
       "    .dataframe tbody tr th:only-of-type {\n",
       "        vertical-align: middle;\n",
       "    }\n",
       "\n",
       "    .dataframe tbody tr th {\n",
       "        vertical-align: top;\n",
       "    }\n",
       "\n",
       "    .dataframe thead th {\n",
       "        text-align: right;\n",
       "    }\n",
       "</style>\n",
       "<table border=\"1\" class=\"dataframe\">\n",
       "  <thead>\n",
       "    <tr style=\"text-align: right;\">\n",
       "      <th></th>\n",
       "      <th></th>\n",
       "      <th>num_images</th>\n",
       "    </tr>\n",
       "    <tr>\n",
       "      <th>num_rows</th>\n",
       "      <th>num_cols</th>\n",
       "      <th></th>\n",
       "    </tr>\n",
       "  </thead>\n",
       "  <tbody>\n",
       "    <tr>\n",
       "      <th>350</th>\n",
       "      <th>350</th>\n",
       "      <td>12823</td>\n",
       "    </tr>\n",
       "    <tr>\n",
       "      <th>37</th>\n",
       "      <th>27</th>\n",
       "      <td>3</td>\n",
       "    </tr>\n",
       "    <tr>\n",
       "      <th>91</th>\n",
       "      <th>73</th>\n",
       "      <td>3</td>\n",
       "    </tr>\n",
       "    <tr>\n",
       "      <th>99</th>\n",
       "      <th>80</th>\n",
       "      <td>2</td>\n",
       "    </tr>\n",
       "    <tr>\n",
       "      <th>73</th>\n",
       "      <th>58</th>\n",
       "      <td>2</td>\n",
       "    </tr>\n",
       "  </tbody>\n",
       "</table>\n",
       "</div>"
      ],
      "text/plain": [
       "                   num_images\n",
       "num_rows num_cols            \n",
       "350      350            12823\n",
       "37       27                 3\n",
       "91       73                 3\n",
       "99       80                 2\n",
       "73       58                 2"
      ]
     },
     "execution_count": 44,
     "metadata": {},
     "output_type": "execute_result"
    }
   ],
   "source": [
    "# Count the number of images for each image size\n",
    "\n",
    "(\n",
    "    pd.DataFrame.from_records(\n",
    "        [img.shape for img in grayscale_image_array],\n",
    "        columns=['num_rows', 'num_cols'])\n",
    "    .groupby(['num_rows', 'num_cols'])\n",
    "    .size()\n",
    "    .rename('num_images')\n",
    "    .to_frame()\n",
    "    .sort_values(by=\"num_images\", ascending=False)\n",
    ").head()"
   ]
  },
  {
   "cell_type": "code",
   "execution_count": 45,
   "metadata": {},
   "outputs": [],
   "source": [
    "# Taking the array values of all the images of size 350 by 350 and their corresponding emotion values and\n",
    "# appending to new lists\n",
    "\n",
    "grayscale_image_array_only_350by350=[]\n",
    "emotions_only_350by350=[]\n",
    "\n",
    "\n",
    "for i in range(len(grayscale_image_array)):\n",
    "    img = grayscale_image_array[i]\n",
    "    emotion = restricted_to_specific_emo.emotion[i]\n",
    "    \n",
    "    if img.shape == (350, 350):\n",
    "        grayscale_image_array_only_350by350.append(img)\n",
    "        emotions_only_350by350.append(emotion)"
   ]
  },
  {
   "cell_type": "code",
   "execution_count": 46,
   "metadata": {},
   "outputs": [
    {
     "name": "stdout",
     "output_type": "stream",
     "text": [
      "12823\n",
      "12823\n"
     ]
    }
   ],
   "source": [
    "# Checking the size of the new lists\n",
    "\n",
    "print(len(grayscale_image_array_only_350by350))\n",
    "print(len(emotions_only_350by350))"
   ]
  },
  {
   "cell_type": "code",
   "execution_count": 47,
   "metadata": {},
   "outputs": [],
   "source": [
    "# Changing the orientation of the image in multiple ways to create a more robust data set which will then be used \n",
    "# to train and test the model\n",
    "\n",
    "images_reflected_horizontally=[]\n",
    "\n",
    "images_reflected_vertically=[]\n",
    "\n",
    "images_rotated_right=[]\n",
    "\n",
    "images_rotated_left=[]\n",
    "\n",
    "images_rotated_180=[]\n",
    "\n",
    "\n",
    "for i in range(len(grayscale_image_array_only_350by350)):\n",
    "    \n",
    "    # grabs images and assigns to img\n",
    "    img=grayscale_image_array_only_350by350[i]\n",
    "    \n",
    "    #reflects the image horizontally and appends to images_reflected_horizontally list\n",
    "    images_reflected_horizontally.append(reflect_horizontally(img))\n",
    "    \n",
    "    #reflects the image vertically and appends to images_reflected_vertically list\n",
    "    images_reflected_vertically.append(reflect_vertically(img))\n",
    "    \n",
    "    #rotates the image right and appends to images_rotated_right list\n",
    "    images_rotated_right.append(rotate_right(img))\n",
    "    \n",
    "    #rotates the image left and appends to images_rotated_left list\n",
    "    images_rotated_left.append(rotate_left(img))\n",
    "    \n",
    "    #rotates the image 180 degrees and appends to images_rotated_180 list\n",
    "    images_rotated_180.append(rotate_180(img))\n",
    "    "
   ]
  },
  {
   "cell_type": "code",
   "execution_count": 48,
   "metadata": {},
   "outputs": [],
   "source": [
    "# this is my final list of images (X) in various orientations\n",
    "\n",
    "final_list_images= (\n",
    "    grayscale_image_array_only_350by350 + \n",
    "    images_reflected_horizontally + \n",
    "    images_reflected_vertically +\n",
    "    images_rotated_right +\n",
    "    images_rotated_left+\n",
    "    images_rotated_180\n",
    "    \n",
    ")"
   ]
  },
  {
   "cell_type": "code",
   "execution_count": 49,
   "metadata": {},
   "outputs": [],
   "source": [
    "# These are the emotion labels (y) corresponding to the X images\n",
    "\n",
    "final_list_emotions= emotions_only_350by350*6\n"
   ]
  },
  {
   "cell_type": "markdown",
   "metadata": {},
   "source": [
    "# This is done to get y and X \n"
   ]
  },
  {
   "cell_type": "code",
   "execution_count": 50,
   "metadata": {},
   "outputs": [],
   "source": [
    "# Converting list grayscale_image_array_only_350by350 to array and reshaping the dimensions\n",
    "\n",
    "X = np.concatenate([\n",
    "    img.reshape(1,350,350,1)\n",
    "    for img in\n",
    "    final_list_images\n",
    "])"
   ]
  },
  {
   "cell_type": "code",
   "execution_count": 51,
   "metadata": {},
   "outputs": [
    {
     "data": {
      "text/plain": [
       "(76938, 350, 350, 1)"
      ]
     },
     "execution_count": 51,
     "metadata": {},
     "output_type": "execute_result"
    }
   ],
   "source": [
    "X.shape"
   ]
  },
  {
   "cell_type": "code",
   "execution_count": 52,
   "metadata": {},
   "outputs": [],
   "source": [
    "# converting the text label into a number between 0 and 3 (because 4 labels) and converting this to \n",
    "# an array and reshaping\n",
    "\n",
    "label_to_number_map = {\n",
    "    label: idx for idx, label in enumerate(using_labels)}\n",
    "\n",
    "emo_numbers = [\n",
    "    label_to_number_map[emo] for emo in final_list_emotions\n",
    "]\n",
    "emo_numbers_array = np.array(emo_numbers).reshape(-1, 1)"
   ]
  },
  {
   "cell_type": "code",
   "execution_count": 53,
   "metadata": {},
   "outputs": [],
   "source": [
    "# Converting the number into one hot encoding resulting in a matrix \n",
    "\n",
    "y = keras.utils.to_categorical(\n",
    "    emo_numbers_array,\n",
    "    len(using_labels))\n"
   ]
  },
  {
   "cell_type": "code",
   "execution_count": 54,
   "metadata": {},
   "outputs": [],
   "source": [
    "# Creating a trained test split from the data\n",
    "\n",
    "X_train, X_test, y_train, y_test = train_test_split(X, y,stratify=y)"
   ]
  },
  {
   "cell_type": "code",
   "execution_count": 82,
   "metadata": {},
   "outputs": [
    {
     "name": "stdout",
     "output_type": "stream",
     "text": [
      "WARNING:tensorflow:From /anaconda3/lib/python3.7/site-packages/keras/backend/tensorflow_backend.py:3445: calling dropout (from tensorflow.python.ops.nn_ops) with keep_prob is deprecated and will be removed in a future version.\n",
      "Instructions for updating:\n",
      "Please use `rate` instead of `keep_prob`. Rate should be set to `rate = 1 - keep_prob`.\n",
      "_________________________________________________________________\n",
      "Layer (type)                 Output Shape              Param #   \n",
      "=================================================================\n",
      "conv2d_25 (Conv2D)           (None, 350, 350, 2)       20        \n",
      "_________________________________________________________________\n",
      "conv2d_26 (Conv2D)           (None, 348, 348, 2)       38        \n",
      "_________________________________________________________________\n",
      "max_pooling2d_13 (MaxPooling (None, 174, 174, 2)       0         \n",
      "_________________________________________________________________\n",
      "dropout_1 (Dropout)          (None, 174, 174, 2)       0         \n",
      "_________________________________________________________________\n",
      "conv2d_27 (Conv2D)           (None, 174, 174, 4)       76        \n",
      "_________________________________________________________________\n",
      "conv2d_28 (Conv2D)           (None, 172, 172, 4)       148       \n",
      "_________________________________________________________________\n",
      "max_pooling2d_14 (MaxPooling (None, 86, 86, 4)         0         \n",
      "_________________________________________________________________\n",
      "dropout_2 (Dropout)          (None, 86, 86, 4)         0         \n",
      "_________________________________________________________________\n",
      "conv2d_29 (Conv2D)           (None, 86, 86, 8)         296       \n",
      "_________________________________________________________________\n",
      "conv2d_30 (Conv2D)           (None, 84, 84, 8)         584       \n",
      "_________________________________________________________________\n",
      "max_pooling2d_15 (MaxPooling (None, 42, 42, 8)         0         \n",
      "_________________________________________________________________\n",
      "dropout_3 (Dropout)          (None, 42, 42, 8)         0         \n",
      "_________________________________________________________________\n",
      "conv2d_31 (Conv2D)           (None, 42, 42, 16)        1168      \n",
      "_________________________________________________________________\n",
      "conv2d_32 (Conv2D)           (None, 40, 40, 16)        2320      \n",
      "_________________________________________________________________\n",
      "max_pooling2d_16 (MaxPooling (None, 20, 20, 16)        0         \n",
      "_________________________________________________________________\n",
      "dropout_4 (Dropout)          (None, 20, 20, 16)        0         \n",
      "_________________________________________________________________\n",
      "conv2d_33 (Conv2D)           (None, 20, 20, 32)        4640      \n",
      "_________________________________________________________________\n",
      "conv2d_34 (Conv2D)           (None, 18, 18, 32)        9248      \n",
      "_________________________________________________________________\n",
      "max_pooling2d_17 (MaxPooling (None, 9, 9, 32)          0         \n",
      "_________________________________________________________________\n",
      "dropout_5 (Dropout)          (None, 9, 9, 32)          0         \n",
      "_________________________________________________________________\n",
      "conv2d_35 (Conv2D)           (None, 9, 9, 64)          18496     \n",
      "_________________________________________________________________\n",
      "conv2d_36 (Conv2D)           (None, 7, 7, 64)          36928     \n",
      "_________________________________________________________________\n",
      "max_pooling2d_18 (MaxPooling (None, 3, 3, 64)          0         \n",
      "_________________________________________________________________\n",
      "dropout_6 (Dropout)          (None, 3, 3, 64)          0         \n",
      "_________________________________________________________________\n",
      "flatten_3 (Flatten)          (None, 576)               0         \n",
      "_________________________________________________________________\n",
      "dense_5 (Dense)              (None, 256)               147712    \n",
      "_________________________________________________________________\n",
      "dense_6 (Dense)              (None, 4)                 1028      \n",
      "=================================================================\n",
      "Total params: 222,702\n",
      "Trainable params: 222,702\n",
      "Non-trainable params: 0\n",
      "_________________________________________________________________\n"
     ]
    }
   ],
   "source": [
    "model = Sequential()\n",
    "\n",
    "model.add(Conv2D(2, (3, 3), padding='same', input_shape=(350,350,1), activation=\"relu\"))\n",
    "model.add(Conv2D(2, (3, 3), activation=\"relu\"))\n",
    "model.add(MaxPooling2D(pool_size=(2, 2)))\n",
    "model.add(Dropout(0.25))\n",
    "\n",
    "model.add(Conv2D(4, (3, 3), padding='same', activation=\"relu\"))\n",
    "model.add(Conv2D(4, (3, 3), activation=\"relu\"))\n",
    "model.add(MaxPooling2D(pool_size=(2, 2)))\n",
    "model.add(Dropout(0.25))\n",
    "\n",
    "model.add(Conv2D(8, (3, 3), padding='same', activation=\"relu\"))\n",
    "model.add(Conv2D(8, (3, 3), activation=\"relu\"))\n",
    "model.add(MaxPooling2D(pool_size=(2, 2)))\n",
    "model.add(Dropout(0.25))\n",
    "\n",
    "model.add(Conv2D(16, (3, 3), padding='same', activation=\"relu\"))\n",
    "model.add(Conv2D(16, (3, 3), activation=\"relu\"))\n",
    "model.add(MaxPooling2D(pool_size=(2, 2)))\n",
    "model.add(Dropout(0.25))\n",
    "\n",
    "model.add(Conv2D(32, (3, 3), padding='same', activation=\"relu\"))\n",
    "model.add(Conv2D(32, (3, 3), activation=\"relu\"))\n",
    "model.add(MaxPooling2D(pool_size=(2, 2)))\n",
    "model.add(Dropout(0.25))\n",
    "\n",
    "model.add(Conv2D(64, (3, 3), padding='same', activation=\"relu\"))\n",
    "model.add(Conv2D(64, (3, 3), activation=\"relu\"))\n",
    "model.add(MaxPooling2D(pool_size=(2, 2)))\n",
    "model.add(Dropout(0.25))\n",
    "\n",
    "model.add(Flatten())\n",
    "model.add(Dense(256, activation=\"relu\"))\n",
    "model.add(Dense(4, activation=\"softmax\"))\n",
    "\n",
    "# Compile the model\n",
    "model.compile(\n",
    "    loss='categorical_crossentropy',\n",
    "    optimizer='adam',\n",
    "    metrics=['accuracy']\n",
    ")\n",
    "\n",
    "# Print a summary of the model\n",
    "model.summary()\n"
   ]
  },
  {
   "cell_type": "code",
   "execution_count": 207,
   "metadata": {},
   "outputs": [],
   "source": [
    "from keras.callbacks import ReduceLROnPlateau, EarlyStopping, TensorBoard, ModelCheckpoint\n",
    "from sklearn.metrics import accuracy_score\n",
    "\n",
    "lr_reducer = ReduceLROnPlateau(monitor='val_loss', factor=0.9, patience=3)\n",
    "\n",
    "early_stopper = EarlyStopping(monitor='val_acc', min_delta=0, patience=6, mode='auto')\n",
    "\n",
    "checkpointer = ModelCheckpoint('weights.hd5', monitor='val_loss', verbose=1, save_best_only=True)\n",
    "\n"
   ]
  },
  {
   "cell_type": "code",
   "execution_count": 84,
   "metadata": {},
   "outputs": [
    {
     "name": "stdout",
     "output_type": "stream",
     "text": [
      "Train on 57703 samples, validate on 19235 samples\n",
      "Epoch 1/1\n",
      "57703/57703 [==============================] - 3495s 61ms/step - loss: 0.8637 - acc: 0.5239 - val_loss: 0.8800 - val_acc: 0.5304\n",
      "\n",
      "Epoch 00001: val_loss improved from inf to 0.88002, saving model to weights.hd5\n"
     ]
    }
   ],
   "source": [
    "# Run the model fit on the training test using the test set for validation\n",
    "\n",
    "history = model.fit(X_train,\n",
    "          y_train,\n",
    "          batch_size=32,\n",
    "          epochs=14,\n",
    "          validation_data=(X_test,y_test),\n",
    "          shuffle=True,\n",
    "          callbacks=[lr_reducer, checkpointer, early_stopper]\n",
    ")\n"
   ]
  },
  {
   "cell_type": "code",
   "execution_count": 86,
   "metadata": {},
   "outputs": [
    {
     "name": "stdout",
     "output_type": "stream",
     "text": [
      "<keras.callbacks.History object at 0x1a4118bf60>\n"
     ]
    }
   ],
   "source": [
    "print(history)"
   ]
  },
  {
   "cell_type": "code",
   "execution_count": 87,
   "metadata": {},
   "outputs": [
    {
     "data": {
      "text/plain": [
       "{'val_loss': [0.8800231688946664],\n",
       " 'val_acc': [0.5303873147922954],\n",
       " 'loss': [0.8636690461063126],\n",
       " 'acc': [0.5239069025879036],\n",
       " 'lr': [0.001]}"
      ]
     },
     "execution_count": 87,
     "metadata": {},
     "output_type": "execute_result"
    }
   ],
   "source": [
    "# This shows various accuracy and val loss for each epoch\n",
    "history.history"
   ]
  },
  {
   "cell_type": "code",
   "execution_count": 88,
   "metadata": {},
   "outputs": [
    {
     "data": {
      "text/plain": [
       "10169"
      ]
     },
     "execution_count": 88,
     "metadata": {},
     "output_type": "execute_result"
    }
   ],
   "source": [
    "model_structure = model.to_json()\n",
    "f = Path(\"model_structure.json\")\n",
    "f.write_text(model_structure)"
   ]
  },
  {
   "cell_type": "code",
   "execution_count": 89,
   "metadata": {},
   "outputs": [],
   "source": [
    "# Save neural network's trained weights\n",
    "model.save_weights(\"model_weights.h5\")\n"
   ]
  },
  {
   "cell_type": "code",
   "execution_count": 205,
   "metadata": {},
   "outputs": [
    {
     "name": "stderr",
     "output_type": "stream",
     "text": [
      "/anaconda3/lib/python3.7/site-packages/keras_preprocessing/image/utils.py:98: UserWarning: grayscale is deprecated. Please use color_mode = \"grayscale\"\n",
      "  warnings.warn('grayscale is deprecated. Please use '\n"
     ]
    }
   ],
   "source": [
    "from keras.models import model_from_json\n",
    "from pathlib import Path\n",
    "from keras.preprocessing import image\n",
    "import numpy as np\n",
    "\n",
    "# Load the json file that contains the model's structure\n",
    "f = Path(\"model_structure.json\")\n",
    "model_structure = f.read_text()\n",
    "\n",
    "# Recreate the Keras model object from the json data\n",
    "model = model_from_json(model_structure)\n",
    "\n",
    "# Re-load the model's trained weights\n",
    "model.load_weights(\"model_weights.h5\")\n",
    "\n",
    "# Load an image file to test, resizing it to 350 X 350 pixels (as required by this model)\n",
    "img = image.load_img(\"4.jpg\", target_size=(350, 350),grayscale=True)\n",
    "\n",
    "# Convert the image to a numpy array\n",
    "image_to_test = image.img_to_array(img)\n"
   ]
  },
  {
   "cell_type": "code",
   "execution_count": 206,
   "metadata": {},
   "outputs": [
    {
     "name": "stdout",
     "output_type": "stream",
     "text": [
      "This is image has a 78.51545810699463% likelihood of being happiness\n"
     ]
    },
    {
     "data": {
      "text/plain": [
       "<matplotlib.image.AxesImage at 0x1a59810c18>"
      ]
     },
     "execution_count": 206,
     "metadata": {},
     "output_type": "execute_result"
    },
    {
     "data": {
      "image/png": "[encoded data removed]",
      "text/plain": [
       "<Figure size 432x288 with 1 Axes>"
      ]
     },
     "metadata": {
      "needs_background": "light"
     },
     "output_type": "display_data"
    }
   ],
   "source": [
    "# Add a fourth dimension to the image (since Keras expects a list of images, not a single image)\n",
    "list_of_images = np.expand_dims(image_to_test, axis=0)\n",
    "\n",
    "# Make a prediction using the model\n",
    "results = model.predict(list_of_images)\n",
    "\n",
    "# Since we are only testing one image, we only need to check the first result\n",
    "single_result = results[0]\n",
    "\n",
    "# We will get a likelihood score for all 10 possible classes. Find out which class had the highest score.\n",
    "most_likely_class_index = int(np.argmax(single_result))\n",
    "class_likelihood = single_result[most_likely_class_index]\n",
    "\n",
    "# Get the name of the most likely class\n",
    "class_label = using_labels[most_likely_class_index]\n",
    "\n",
    "# Print the result\n",
    "print(f\"This is image has a {class_likelihood*100}% likelihood of being {class_label}\")\n",
    "plt.imshow(img)\n"
   ]
  },
  {
   "cell_type": "markdown",
   "metadata": {},
   "source": [
    "## Comments:\n",
    "##### 1. Model is most consistently good at picking up Neutral and Happy facial expressions\n",
    "##### 2. Anger and Sad expressions are not picked up as well. \n",
    "##### 3. Further investigation into the data set revealed that some of the images were not labelled as consistently as others especially for the anger and sadness facial expression\n",
    "##### 4. \n",
    "##### 5.\n",
    "##### 6."
   ]
  },
  {
   "cell_type": "code",
   "execution_count": null,
   "metadata": {},
   "outputs": [],
   "source": []
  },
  {
   "cell_type": "code",
   "execution_count": null,
   "metadata": {},
   "outputs": [],
   "source": []
  },
  {
   "cell_type": "code",
   "execution_count": null,
   "metadata": {},
   "outputs": [],
   "source": [
    "# If running an image from the test set you can check what the image is labelled as in the labelled data set\n",
    "\n",
    "# data.loc[data['image'] ==\"Ahmed_Chalabi_0002.jpg\" , 'emotion']"
   ]
  },
  {
   "cell_type": "code",
   "execution_count": null,
   "metadata": {},
   "outputs": [],
   "source": []
  },
  {
   "cell_type": "code",
   "execution_count": null,
   "metadata": {},
   "outputs": [],
   "source": [
    "# add timestamp to code to see when each epoch finishes\n",
    "# mess the parameters and scle the model, prune it down and make a loop that runs several different model!!\n",
    "# scale down the model take a look at params and do a quarter "
   ]
  }
 ],
 "metadata": {
  "kernelspec": {
   "display_name": "Python 3",
   "language": "python",
   "name": "python3"
  },
  "language_info": {
   "codemirror_mode": {
    "name": "ipython",
    "version": 3
   },
   "file_extension": ".py",
   "mimetype": "text/x-python",
   "name": "python",
   "nbconvert_exporter": "python",
   "pygments_lexer": "ipython3",
   "version": "3.7.2"
  }
 },
 "nbformat": 4,
 "nbformat_minor": 2
}
